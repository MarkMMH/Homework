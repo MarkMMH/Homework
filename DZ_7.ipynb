{
 "cells": [
  {
   "cell_type": "code",
   "execution_count": null,
   "metadata": {},
   "outputs": [],
   "source": [
    "list = {\n",
    "    'Denis': 2,\n",
    "    'Maxim': 3,\n",
    "    'Dmytro': 5,\n",
    "    'Petr': 5,\n",
    "    'Julia': 4\n",
    "}\n",
    "good_students = {}\n",
    "for marks in list.keys():\n",
    "    print(marks)\n",
    "    if list.keys > 4:\n",
    "        if list.keys > 5:\n",
    "            print('ok')"
   ]
  }
 ],
 "metadata": {
  "kernelspec": {
   "display_name": "Python 3.9.13 64-bit",
   "language": "python",
   "name": "python3"
  },
  "language_info": {
   "codemirror_mode": {
    "name": "ipython",
    "version": 3
   },
   "file_extension": ".py",
   "mimetype": "text/x-python",
   "name": "python",
   "nbconvert_exporter": "python",
   "pygments_lexer": "ipython3",
   "version": "3.9.13"
  },
  "orig_nbformat": 4,
  "vscode": {
   "interpreter": {
    "hash": "81794d4967e6c3204c66dcd87b604927b115b27c00565d3d43f05ba2f3a2cb0d"
   }
  }
 },
 "nbformat": 4,
 "nbformat_minor": 2
}
