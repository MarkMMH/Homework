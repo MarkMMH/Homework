{
 "cells": [
  {
   "cell_type": "code",
   "execution_count": 8,
   "metadata": {},
   "outputs": [
    {
     "name": "stdout",
     "output_type": "stream",
     "text": [
      "Arsenal 43\n"
     ]
    }
   ],
   "source": [
    "\n",
    "class Club:\n",
    "    name = ''\n",
    "    city = ''\n",
    "    score = 0\n",
    "\n",
    "class Championship:\n",
    "    country = ''\n",
    "    champ = ''\n",
    "    clubs = []\n",
    "    def teams(self, clubs):\n",
    "        self.clubs = clubs\n",
    "\n",
    "    def get_club_w_min_score(self):\n",
    "        club_w_min_score = self.clubs[0]\n",
    "        for current_team in self.clubs:\n",
    "            if current_team.score < club_w_min_score.score:\n",
    "                club_w_min_score = current_team\n",
    "                return club_w_min_score\n",
    "\n",
    "club_1 = Club()\n",
    "club_1.name = 'shachtar'\n",
    "club_1.city = 'Kyiv'\n",
    "club_1.score = 67\n",
    "\n",
    "club_2 = Club()\n",
    "club_2.name = 'Liverpul'\n",
    "club_2.city = 'Liverpul'\n",
    "club_2.score = 76\n",
    "\n",
    "club_3 = Club()\n",
    "club_3.name = 'Arsenal'\n",
    "club_3.city = 'Moscow'\n",
    "club_3.score = 43\n",
    "\n",
    "club_4 = Club()\n",
    "club_4.name = 'Manchestar'\n",
    "club_4.city = 'London'\n",
    "club_4.score = 55\n",
    "\n",
    "clubs = [club_1, club_2, club_3, club_4]\n",
    "\n",
    "result = Championship()\n",
    "result.teams(clubs)\n",
    "\n",
    "team = result.get_club_w_min_score()\n",
    "print(team.name, team.score)"
   ]
  }
 ],
 "metadata": {
  "kernelspec": {
   "display_name": "Python 3.9.13 64-bit",
   "language": "python",
   "name": "python3"
  },
  "language_info": {
   "codemirror_mode": {
    "name": "ipython",
    "version": 3
   },
   "file_extension": ".py",
   "mimetype": "text/x-python",
   "name": "python",
   "nbconvert_exporter": "python",
   "pygments_lexer": "ipython3",
   "version": "3.9.13"
  },
  "orig_nbformat": 4,
  "vscode": {
   "interpreter": {
    "hash": "81794d4967e6c3204c66dcd87b604927b115b27c00565d3d43f05ba2f3a2cb0d"
   }
  }
 },
 "nbformat": 4,
 "nbformat_minor": 2
}
