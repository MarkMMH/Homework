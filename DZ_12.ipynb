{
 "cells": [
  {
   "cell_type": "code",
   "execution_count": null,
   "metadata": {},
   "outputs": [],
   "source": [
    "from math import pi\n",
    "    \n",
    "class Figure:\n",
    "    name = ''\n",
    "    side = 0\n",
    "    formule = None\n",
    "\n",
    "square = Figure()\n",
    "square.name = 'square'\n",
    "square.side = 3\n",
    "square.formule = square.side ** 2\n",
    "\n",
    "square_2 = Figure()\n",
    "square_2.name = 'square_2'\n",
    "square_2.side = 4\n",
    "square_2.formule = square_2.side ** 2\n",
    "\n",
    "square_3 = Figure()\n",
    "square_3.name = 'square_3'\n",
    "square_3.side = 5\n",
    "square_3.formule = square_3.side ** 2\n",
    "\n",
    "square_4 = Figure()\n",
    "square_4.name = 'square_4'\n",
    "square_4.side = 6\n",
    "square_4.formule = square_4.side ** 2\n",
    "\n",
    "circle = Figure()\n",
    "circle.name = 'circle'\n",
    "circle.side = 1\n",
    "circle.formule = (circle.side ** 2) * pi\n",
    "\n",
    "circle_2 = Figure()\n",
    "circle_2.name = 'circle_2'\n",
    "circle_2.side = 2\n",
    "circle_2.formule = (circle_2.side ** 2) * pi\n",
    "\n",
    "circle_3 = Figure()\n",
    "circle_3.name = 'circle_3'\n",
    "circle_3.side = 3\n",
    "circle_3.formule = (circle_3.side ** 2) * pi\n",
    "\n",
    "circle_4 = Figure()\n",
    "circle_4.name = 'circle_4'\n",
    "circle_4.side = 4\n",
    "circle_4.formule = (circle_4.side ** 2) * pi\n",
    "\n",
    "figures = {\n",
    "    square.name : square.formule,\n",
    "    square_2.name : square_2.formule,\n",
    "    square_3.name : square_3.formule,\n",
    "    square_4.name : square_4.formule,\n",
    "    circle.name : circle.formule,\n",
    "    circle_2.name : circle_2.formule,\n",
    "    circle_3.name : circle_3.formule,\n",
    "    circle_4.name : circle_4.formule,\n",
    "}\n",
    "for list in figures:\n",
    "    print('{} = {} cm2'.format(list, figures[list]))"
   ]
  }
 ],
 "metadata": {
  "kernelspec": {
   "display_name": "Python 3.9.13 64-bit",
   "language": "python",
   "name": "python3"
  },
  "language_info": {
   "codemirror_mode": {
    "name": "ipython",
    "version": 3
   },
   "file_extension": ".py",
   "mimetype": "text/x-python",
   "name": "python",
   "nbconvert_exporter": "python",
   "pygments_lexer": "ipython3",
   "version": "3.9.13"
  },
  "orig_nbformat": 4,
  "vscode": {
   "interpreter": {
    "hash": "81794d4967e6c3204c66dcd87b604927b115b27c00565d3d43f05ba2f3a2cb0d"
   }
  }
 },
 "nbformat": 4,
 "nbformat_minor": 2
}
