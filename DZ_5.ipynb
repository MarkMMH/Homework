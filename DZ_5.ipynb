{
 "cells": [
  {
   "cell_type": "code",
   "execution_count": 4,
   "metadata": {},
   "outputs": [
    {
     "name": "stdout",
     "output_type": "stream",
     "text": [
      "l - 2\n"
     ]
    }
   ],
   "source": [
    "last_name = 'Mellnyk'\n",
    "char_max_name = ''\n",
    "char_max_count = 0\n",
    "for letter in last_name:\n",
    "    current_char_count = last_name.count(letter)\n",
    "    if current_char_count > char_max_count:\n",
    "        char_max_name = letter\n",
    "        char_max_count = current_char_count\n",
    "    last_name.count(letter)\n",
    "\n",
    "print(char_max_name, '-', char_max_count)\n"
   ]
  },
  {
   "cell_type": "code",
   "execution_count": 12,
   "metadata": {},
   "outputs": [
    {
     "name": "stdout",
     "output_type": "stream",
     "text": [
      "error: +380679999999+380669999999+380668888888+380507777777+380681151010\n"
     ]
    }
   ],
   "source": [
    "phones = [\n",
    "    '+380679999999'\n",
    "    '+380669999999'\n",
    "    '+380668888888'\n",
    "    '+380507777777'\n",
    "    '+380681151010'\n",
    "]\n",
    "correct_phone_len = 13\n",
    "correct_county_code = '+38'\n",
    "correct_operator_code = []\n",
    "for phone in phones:\n",
    "    if (len(phone) == correct_phone_len) and (phone[0:3] == correct_county_code) and (phone[3:6] in correct_operator_code):\n",
    "        print(phone)\n",
    "else:\n",
    "    print('error:', phone)\n",
    "\n",
    "\n"
   ]
  }
 ],
 "metadata": {
  "kernelspec": {
   "display_name": "Python 3.9.13 64-bit",
   "language": "python",
   "name": "python3"
  },
  "language_info": {
   "codemirror_mode": {
    "name": "ipython",
    "version": 3
   },
   "file_extension": ".py",
   "mimetype": "text/x-python",
   "name": "python",
   "nbconvert_exporter": "python",
   "pygments_lexer": "ipython3",
   "version": "3.9.13"
  },
  "orig_nbformat": 4,
  "vscode": {
   "interpreter": {
    "hash": "81794d4967e6c3204c66dcd87b604927b115b27c00565d3d43f05ba2f3a2cb0d"
   }
  }
 },
 "nbformat": 4,
 "nbformat_minor": 2
}
